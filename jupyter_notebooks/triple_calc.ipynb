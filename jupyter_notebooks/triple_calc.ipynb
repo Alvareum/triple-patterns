{
 "cells": [
  {
   "cell_type": "markdown",
   "metadata": {},
   "source": [
    "# Triple calculation  \n",
    "In this notebook triples are calculated from graph data.   \n",
    "1. Load prepared graph and markup\n",
    "2. Run triple calculation\n",
    "3. Get info about triple activity during different labels"
   ]
  },
  {
   "cell_type": "code",
   "execution_count": 1,
   "metadata": {},
   "outputs": [],
   "source": [
    "import numpy as np\n",
    "import triple_calc as tc"
   ]
  },
  {
   "cell_type": "markdown",
   "metadata": {},
   "source": [
    "#### 1. Load prepared graph and markup\n",
    "\n",
    "Graph defined as three-dimensional array $T \\times N \\times N$, where $T = nt \\div 2$ \n",
    "($nt$ - time in frames), divided by 8, because of $uint8$ data type, $N$ - number of cells. Markup saved as a dictionary, where key is a number of label and value is an array of zeros and ones, where ones mark moments of time, when label was active."
   ]
  },
  {
   "cell_type": "code",
   "execution_count": 2,
   "metadata": {},
   "outputs": [
    {
     "data": {
      "text/plain": [
       "(120, 10, 10)"
      ]
     },
     "execution_count": 2,
     "metadata": {},
     "output_type": "execute_result"
    }
   ],
   "source": [
    "graph_path = r\"D:\\practice_v2\\scripts\\triple_patterns\\data\\graph.npz\"\n",
    "graph_data = np.load(graph_path)\n",
    "graph = graph_data[\"graph\"]\n",
    "graph.shape"
   ]
  },
  {
   "cell_type": "code",
   "execution_count": 3,
   "metadata": {},
   "outputs": [],
   "source": [
    "markup_path = r\"D:\\practice_v2\\scripts\\triple_patterns\\data\\markup.npy\"\n",
    "markup = np.load(markup_path, allow_pickle=True).item()"
   ]
  },
  {
   "cell_type": "markdown",
   "metadata": {},
   "source": [
    "#### 2. Run triple calculation\n",
    "\n",
    "Only graph is needed in triple finding. The result of this process is two arrays:  \n",
    "1. Array of triples with size $M\\times3$, where M - number of finding triples. \n",
    "2. Array with triple activity in time with size $M\\times T$, where $T = nt \\div 8$. Array contains only $0$ and $1$, where $1$ signify moments of time, where triple was active.  "
   ]
  },
  {
   "cell_type": "code",
   "execution_count": 4,
   "metadata": {},
   "outputs": [
    {
     "name": "stdout",
     "output_type": "stream",
     "text": [
      "(120, 10, 10)\n",
      "Good triples: 6\n"
     ]
    },
    {
     "data": {
      "text/plain": [
       "array([[2, 3, 6],\n",
       "       [2, 3, 9],\n",
       "       [2, 6, 3],\n",
       "       [2, 9, 3],\n",
       "       [3, 2, 6],\n",
       "       [6, 3, 9]])"
      ]
     },
     "execution_count": 4,
     "metadata": {},
     "output_type": "execute_result"
    }
   ],
   "source": [
    "triples, triple_activity = tc.find_triples(graph)\n",
    "triples"
   ]
  },
  {
   "cell_type": "markdown",
   "metadata": {},
   "source": [
    "#### 3. Get info about triple activity during different labels\n",
    "\n",
    "This step allows to get how triple was active during different labels. The resulting array has shape $M \\times L$, where $M$ - number of found triples, $L$ - number of labels in markup."
   ]
  },
  {
   "cell_type": "code",
   "execution_count": 14,
   "metadata": {},
   "outputs": [
    {
     "data": {
      "text/plain": [
       "array([[ 0.,  0.,  1.],\n",
       "       [16.,  5.,  6.],\n",
       "       [ 0.,  1.,  0.],\n",
       "       [ 0.,  0., 11.],\n",
       "       [ 1.,  0.,  0.],\n",
       "       [ 0.,  0.,  1.]])"
      ]
     },
     "execution_count": 14,
     "metadata": {},
     "output_type": "execute_result"
    }
   ],
   "source": [
    "triple_info = tc.get_triple_edges(triple_activity, markup, is_markup_packed=False)\n",
    "triple_info"
   ]
  },
  {
   "cell_type": "code",
   "execution_count": 15,
   "metadata": {},
   "outputs": [],
   "source": [
    "np.savez(r\"D:\\practice_v2\\scripts\\triple_patterns\\data\\triple_data.npz\", triples=triples, triple_activity=triple_activity, triple_info=triple_info)"
   ]
  },
  {
   "cell_type": "code",
   "execution_count": null,
   "metadata": {},
   "outputs": [],
   "source": []
  }
 ],
 "metadata": {
  "kernelspec": {
   "display_name": ".venv",
   "language": "python",
   "name": "python3"
  },
  "language_info": {
   "codemirror_mode": {
    "name": "ipython",
    "version": 3
   },
   "file_extension": ".py",
   "mimetype": "text/x-python",
   "name": "python",
   "nbconvert_exporter": "python",
   "pygments_lexer": "ipython3",
   "version": "3.9.6"
  }
 },
 "nbformat": 4,
 "nbformat_minor": 2
}
