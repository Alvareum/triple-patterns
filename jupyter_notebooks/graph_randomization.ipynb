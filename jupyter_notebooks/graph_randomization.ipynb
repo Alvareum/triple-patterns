{
 "cells": [
  {
   "cell_type": "markdown",
   "metadata": {},
   "source": [
    "# Graph randomization\n",
    "\n",
    " In this notebook calcium events data (further - spikes) is randomized with 2 different methods:  \n",
    " 1. Spike shuffle  \n",
    " 2. Dynamic shift spikes  "
   ]
  },
  {
   "cell_type": "code",
   "execution_count": 1,
   "metadata": {},
   "outputs": [],
   "source": [
    "import numpy as np\n",
    "import graph_randomization as gr\n"
   ]
  },
  {
   "cell_type": "markdown",
   "metadata": {},
   "source": [
    "Spikes is an array with shape $N \\times T$, where $N$ - number of cells, $T$ - number of frames in video. For demo we used prepared array with shape $10 \\times 100$"
   ]
  },
  {
   "cell_type": "code",
   "execution_count": 2,
   "metadata": {},
   "outputs": [
    {
     "data": {
      "text/plain": [
       "(10, 100)"
      ]
     },
     "execution_count": 2,
     "metadata": {},
     "output_type": "execute_result"
    }
   ],
   "source": [
    "path_spikes = r\"D:\\practice_v2\\scripts\\triple_patterns\\data\\spikes.npy\"\n",
    "spikes = np.load(path_spikes, allow_pickle=True)\n",
    "spikes.shape"
   ]
  },
  {
   "cell_type": "markdown",
   "metadata": {},
   "source": [
    "To check the accuracy (?) of randomization, some calculations before and after randomizations are shown below:  \n",
    "1. Number of spikes in the whole array  \n",
    "2. Indices of the first 5 spikes in one cell."
   ]
  },
  {
   "cell_type": "code",
   "execution_count": 3,
   "metadata": {},
   "outputs": [
    {
     "name": "stdout",
     "output_type": "stream",
     "text": [
      "Number of spikes before randomization = 100\n",
      "Indices of the first 5 spikes before randomization =\n",
      " [[ 4]\n",
      " [19]\n",
      " [48]\n",
      " [55]\n",
      " [60]]\n"
     ]
    }
   ],
   "source": [
    "print(f\"Number of spikes before randomization = {np.count_nonzero(spikes)}\")\n",
    "print(f\"Indices of the first 5 spikes before randomization =\\n {np.argwhere(spikes[0, :])[:5]}\")"
   ]
  },
  {
   "cell_type": "markdown",
   "metadata": {},
   "source": [
    "### 1. Spikes shuffle\n",
    "It is the method of randomization, where spikes are shuffled along time axis."
   ]
  },
  {
   "cell_type": "code",
   "execution_count": 4,
   "metadata": {},
   "outputs": [
    {
     "name": "stdout",
     "output_type": "stream",
     "text": [
      "Number of spikes after shuffle randomization = 100\n",
      "Indices of the first 5 spikes after shuffle randomization =\n",
      " [[ 5]\n",
      " [ 7]\n",
      " [35]\n",
      " [50]\n",
      " [60]]\n"
     ]
    }
   ],
   "source": [
    "shuffled_spikes = gr.shuffle_along_axis(spikes, axis=0, random_state=0)\n",
    "print(f\"Number of spikes after shuffle randomization = {np.count_nonzero(shuffled_spikes)}\")\n",
    "print(f\"Indices of the first 5 spikes after shuffle randomization =\\n {np.argwhere(shuffled_spikes[0, :])[:5]}\")"
   ]
  },
  {
   "cell_type": "markdown",
   "metadata": {},
   "source": [
    "### 2. Dynamic shift\n",
    "\n",
    "It is the method of randomization, where spikes are shifted by random number of frames for each cell independently."
   ]
  },
  {
   "cell_type": "code",
   "execution_count": 5,
   "metadata": {},
   "outputs": [
    {
     "name": "stdout",
     "output_type": "stream",
     "text": [
      "Number of spikes after shift randomization = 100\n",
      "Indices of the first 5 spikes after shift randomization =\n",
      " [[ 8]\n",
      " [42]\n",
      " [53]\n",
      " [61]\n",
      " [68]]\n"
     ]
    }
   ],
   "source": [
    "shifted_spikes, _ = gr.calc_randomized_shift_spikes(spikes, axis=0, random_state=0)\n",
    "print(f\"Number of spikes after shift randomization = {np.count_nonzero(shifted_spikes)}\")\n",
    "print(f\"Indices of the first 5 spikes after shift randomization =\\n {np.argwhere(shifted_spikes[0, :])[:5]}\")"
   ]
  },
  {
   "cell_type": "code",
   "execution_count": null,
   "metadata": {},
   "outputs": [],
   "source": []
  }
 ],
 "metadata": {
  "kernelspec": {
   "display_name": ".venv",
   "language": "python",
   "name": "python3"
  },
  "language_info": {
   "codemirror_mode": {
    "name": "ipython",
    "version": 3
   },
   "file_extension": ".py",
   "mimetype": "text/x-python",
   "name": "python",
   "nbconvert_exporter": "python",
   "pygments_lexer": "ipython3",
   "version": "3.9.6"
  }
 },
 "nbformat": 4,
 "nbformat_minor": 2
}
