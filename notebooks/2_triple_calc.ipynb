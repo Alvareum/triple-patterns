{
 "cells": [
  {
   "cell_type": "markdown",
   "metadata": {},
   "source": [
    "# Triple calculation  \n",
    "In this notebook triples are calculated from graph data.   \n",
    "1. Load prepared graph and markup\n",
    "2. Run triple calculation\n",
    "3. Get info about triple activity during different labels"
   ]
  },
  {
   "cell_type": "code",
   "execution_count": 1,
   "metadata": {},
   "outputs": [],
   "source": [
    "import numpy as np\n",
    "import pandas as pd\n",
    "import matplotlib.pyplot as plt\n",
    "from triple_patterns import find_triples\n",
    "from triple_patterns import get_triple_edges"
   ]
  },
  {
   "cell_type": "markdown",
   "metadata": {},
   "source": [
    "#### 1. Load prepared graph and markup\n",
    "\n",
    "Graph defined as three-dimensional array $T \\times N \\times N$, where $T = nt \\div 8$ \n",
    "($nt$ - time in frames).  \n",
    "This is because the graph is compressed, and bit mask in $uint8$ data type stores ones in the positions corresponding to the presence of an edge at that moment in time, $N$ - number of cells.  \n",
    "The figure below shows the graph represented at three distinct frames."
   ]
  },
  {
   "cell_type": "code",
   "execution_count": 2,
   "metadata": {},
   "outputs": [
    {
     "data": {
      "text/plain": [
       "(120, 10, 10)"
      ]
     },
     "execution_count": 2,
     "metadata": {},
     "output_type": "execute_result"
    }
   ],
   "source": [
    "graph_path = r\"..\\data\\graph.npz\"\n",
    "graph_data = np.load(graph_path)\n",
    "graph = graph_data[\"graph\"]\n",
    "graph.shape"
   ]
  },
  {
   "cell_type": "code",
   "execution_count": 3,
   "metadata": {},
   "outputs": [
    {
     "data": {
      "image/png": "[encoded data removed]",
      "text/plain": [
       "<Figure size 900x300 with 3 Axes>"
      ]
     },
     "metadata": {},
     "output_type": "display_data"
    }
   ],
   "source": [
    "unpacked_graph = np.unpackbits(graph, axis=0)\n",
    "fig, axes = plt.subplots(1, 3, figsize=(9, 3))\n",
    "frames = [887, 893, 917]\n",
    "for idx, ax in enumerate(axes):\n",
    "    ax.imshow(unpacked_graph[frames[idx]])\n",
    "    ax.set_title(f\"frame = {frames[idx]}\")\n",
    "    ax.axis('off')"
   ]
  },
  {
   "cell_type": "markdown",
   "metadata": {},
   "source": [
    "Markup saved as a DataFrame, but for further analysis we transform it to dict, where key is a number of label and value is an array of zeros and ones, where ones mark moments of time, when label was active."
   ]
  },
  {
   "cell_type": "code",
   "execution_count": 4,
   "metadata": {},
   "outputs": [
    {
     "data": {
      "text/html": [
       "<div>\n",
       "<style scoped>\n",
       "    .dataframe tbody tr th:only-of-type {\n",
       "        vertical-align: middle;\n",
       "    }\n",
       "\n",
       "    .dataframe tbody tr th {\n",
       "        vertical-align: top;\n",
       "    }\n",
       "\n",
       "    .dataframe thead th {\n",
       "        text-align: right;\n",
       "    }\n",
       "</style>\n",
       "<table border=\"1\" class=\"dataframe\">\n",
       "  <thead>\n",
       "    <tr style=\"text-align: right;\">\n",
       "      <th></th>\n",
       "      <th>1</th>\n",
       "      <th>2</th>\n",
       "      <th>3</th>\n",
       "    </tr>\n",
       "  </thead>\n",
       "  <tbody>\n",
       "    <tr>\n",
       "      <th>0</th>\n",
       "      <td>False</td>\n",
       "      <td>True</td>\n",
       "      <td>False</td>\n",
       "    </tr>\n",
       "    <tr>\n",
       "      <th>1</th>\n",
       "      <td>False</td>\n",
       "      <td>True</td>\n",
       "      <td>False</td>\n",
       "    </tr>\n",
       "    <tr>\n",
       "      <th>2</th>\n",
       "      <td>False</td>\n",
       "      <td>True</td>\n",
       "      <td>False</td>\n",
       "    </tr>\n",
       "    <tr>\n",
       "      <th>3</th>\n",
       "      <td>False</td>\n",
       "      <td>False</td>\n",
       "      <td>True</td>\n",
       "    </tr>\n",
       "    <tr>\n",
       "      <th>4</th>\n",
       "      <td>False</td>\n",
       "      <td>False</td>\n",
       "      <td>True</td>\n",
       "    </tr>\n",
       "  </tbody>\n",
       "</table>\n",
       "</div>"
      ],
      "text/plain": [
       "       1      2      3\n",
       "0  False   True  False\n",
       "1  False   True  False\n",
       "2  False   True  False\n",
       "3  False  False   True\n",
       "4  False  False   True"
      ]
     },
     "execution_count": 4,
     "metadata": {},
     "output_type": "execute_result"
    }
   ],
   "source": [
    "markup_path = r\"..\\data\\markup.csv\"\n",
    "markup_df = pd.read_csv(markup_path, index_col=0)\n",
    "markup = markup_df.to_dict(orient='list')\n",
    "markup = {key: np.array(value) for key, value in markup.items()}\n",
    "markup_df.head()"
   ]
  },
  {
   "cell_type": "markdown",
   "metadata": {},
   "source": [
    "#### 2. Run triple calculation\n",
    "\n",
    "Only graph is needed for triple search. The result of this process is two arrays:  \n",
    "1. Array of triples with size $M\\times3$, where M - number of finding triples. \n",
    "2. Array with triple activity in time with size $M\\times T$, where $T = nt \\div 8$. Array contains only $0$ and $1$, where $1$ signify moments of time, where triple was active.  \n",
    "\n",
    "Triple activity is shown in the figure below, where the vertical axis represents the count of detected triples and the horizontal axis represents time in frames."
   ]
  },
  {
   "cell_type": "code",
   "execution_count": 5,
   "metadata": {},
   "outputs": [
    {
     "name": "stdout",
     "output_type": "stream",
     "text": [
      "(120, 10, 10)\n",
      "Good triples: 6\n"
     ]
    },
    {
     "data": {
      "text/plain": [
       "array([[2, 3, 6],\n",
       "       [2, 3, 9],\n",
       "       [2, 6, 3],\n",
       "       [2, 9, 3],\n",
       "       [3, 2, 6],\n",
       "       [6, 3, 9]])"
      ]
     },
     "execution_count": 5,
     "metadata": {},
     "output_type": "execute_result"
    }
   ],
   "source": [
    "triples, triple_activity = find_triples(graph)\n",
    "triples"
   ]
  },
  {
   "cell_type": "code",
   "execution_count": 6,
   "metadata": {},
   "outputs": [
    {
     "data": {
      "image/png": "[encoded data removed]",
      "text/plain": [
       "<Figure size 1000x200 with 1 Axes>"
      ]
     },
     "metadata": {},
     "output_type": "display_data"
    }
   ],
   "source": [
    "unpacked_triple_activity = np.unpackbits(triple_activity, axis=1)\n",
    "fig, ax = plt.subplots(figsize=(10, 2))\n",
    "ax.imshow(unpacked_triple_activity[:, :], aspect=\"auto\")\n",
    "ax.set_yticks(np.arange(0, len(triples)))\n",
    "plt.tight_layout()"
   ]
  },
  {
   "cell_type": "markdown",
   "metadata": {},
   "source": [
    "#### 3. Get info about triple activity during different labels\n",
    "\n",
    "This step allows to get how triple was active during different labels. The resulting array has shape $M \\times L$, where $M$ - number of found triples, $L$ - number of labels in markup.  \n",
    "For convenience the result was transformed to DataFrame. Columns `frame_count_label_x` show how many frames triple was active during label x."
   ]
  },
  {
   "cell_type": "code",
   "execution_count": 7,
   "metadata": {},
   "outputs": [
    {
     "data": {
      "text/html": [
       "<div>\n",
       "<style scoped>\n",
       "    .dataframe tbody tr th:only-of-type {\n",
       "        vertical-align: middle;\n",
       "    }\n",
       "\n",
       "    .dataframe tbody tr th {\n",
       "        vertical-align: top;\n",
       "    }\n",
       "\n",
       "    .dataframe thead th {\n",
       "        text-align: right;\n",
       "    }\n",
       "</style>\n",
       "<table border=\"1\" class=\"dataframe\">\n",
       "  <thead>\n",
       "    <tr style=\"text-align: right;\">\n",
       "      <th></th>\n",
       "      <th>frame_count_label_1</th>\n",
       "      <th>frame_count_label_2</th>\n",
       "      <th>frame_count_label_3</th>\n",
       "    </tr>\n",
       "  </thead>\n",
       "  <tbody>\n",
       "    <tr>\n",
       "      <th>[2, 3, 6]</th>\n",
       "      <td>0</td>\n",
       "      <td>0</td>\n",
       "      <td>1</td>\n",
       "    </tr>\n",
       "    <tr>\n",
       "      <th>[2, 3, 9]</th>\n",
       "      <td>16</td>\n",
       "      <td>5</td>\n",
       "      <td>6</td>\n",
       "    </tr>\n",
       "    <tr>\n",
       "      <th>[2, 6, 3]</th>\n",
       "      <td>0</td>\n",
       "      <td>1</td>\n",
       "      <td>0</td>\n",
       "    </tr>\n",
       "    <tr>\n",
       "      <th>[2, 9, 3]</th>\n",
       "      <td>0</td>\n",
       "      <td>0</td>\n",
       "      <td>11</td>\n",
       "    </tr>\n",
       "    <tr>\n",
       "      <th>[3, 2, 6]</th>\n",
       "      <td>1</td>\n",
       "      <td>0</td>\n",
       "      <td>0</td>\n",
       "    </tr>\n",
       "    <tr>\n",
       "      <th>[6, 3, 9]</th>\n",
       "      <td>0</td>\n",
       "      <td>0</td>\n",
       "      <td>1</td>\n",
       "    </tr>\n",
       "  </tbody>\n",
       "</table>\n",
       "</div>"
      ],
      "text/plain": [
       "           frame_count_label_1  frame_count_label_2  frame_count_label_3\n",
       "[2, 3, 6]                    0                    0                    1\n",
       "[2, 3, 9]                   16                    5                    6\n",
       "[2, 6, 3]                    0                    1                    0\n",
       "[2, 9, 3]                    0                    0                   11\n",
       "[3, 2, 6]                    1                    0                    0\n",
       "[6, 3, 9]                    0                    0                    1"
      ]
     },
     "execution_count": 7,
     "metadata": {},
     "output_type": "execute_result"
    }
   ],
   "source": [
    "triple_info = get_triple_edges(triple_activity, markup, is_markup_packed=False)\n",
    "df = pd.DataFrame(triple_info, index=tuple(triples), columns=[\"frame_count_label_1\", \"frame_count_label_2\", \"frame_count_label_3\"], dtype=\"int\")\n",
    "df"
   ]
  },
  {
   "cell_type": "code",
   "execution_count": 8,
   "metadata": {},
   "outputs": [],
   "source": [
    "path_triple_data = r\"..\\data\\triple_data.npz\"\n",
    "triple_data = np.savez(path_triple_data, triples=triples, triple_activity=triple_activity, triple_info=triple_info)"
   ]
  },
  {
   "cell_type": "code",
   "execution_count": null,
   "metadata": {},
   "outputs": [],
   "source": []
  }
 ],
 "metadata": {
  "kernelspec": {
   "display_name": ".venv",
   "language": "python",
   "name": "python3"
  },
  "language_info": {
   "codemirror_mode": {
    "name": "ipython",
    "version": 3
   },
   "file_extension": ".py",
   "mimetype": "text/x-python",
   "name": "python",
   "nbconvert_exporter": "python",
   "pygments_lexer": "ipython3",
   "version": "3.9.6"
  }
 },
 "nbformat": 4,
 "nbformat_minor": 2
}
