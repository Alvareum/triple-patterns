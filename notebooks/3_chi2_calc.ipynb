{
 "cells": [
  {
   "cell_type": "markdown",
   "metadata": {},
   "source": [
    "# Chi square calculation\n",
    "\n",
    "In this notebook triple data obtained on the previous step was used. \n",
    "\n",
    "1. Load prepared triple results, markup and graph data/\n",
    "2. Get frequency tables\n",
    "3. Chi square calculation"
   ]
  },
  {
   "cell_type": "code",
   "execution_count": 1,
   "metadata": {},
   "outputs": [],
   "source": [
    "import numpy as np\n",
    "import pandas as pd\n",
    "from triple_patterns import get_label_intervals\n",
    "from triple_patterns import get_freq_tables_triples\n",
    "from triple_patterns import get_chi_square_results_df"
   ]
  },
  {
   "cell_type": "code",
   "execution_count": 2,
   "metadata": {},
   "outputs": [],
   "source": [
    "path_triple_data = r\"..\\data\\triple_data.npz\"\n",
    "markup_path = r\"..\\data\\markup.csv\"\n",
    "graph_path = r\"..\\data\\graph.npz\""
   ]
  },
  {
   "cell_type": "markdown",
   "metadata": {},
   "source": [
    "### Load prepared triple results and markup\n",
    "\n",
    "Triple_data is an archive of three arrays:  \n",
    "1. Array of triples with size $M\\times3$, where M - number of finding triples. \n",
    "2. Array with triple activity in time with size $M\\times T$, where $T =$ number of frames $\\div 8$. Array contains only $0$ and $1$, where $1$ signify moments of time, where triple was active.  \n",
    "3. Array with triple activity during different labels with size $M \\times L$, where $M$ - number of found triples, $L$ - number of labels in markup."
   ]
  },
  {
   "cell_type": "code",
   "execution_count": 3,
   "metadata": {},
   "outputs": [],
   "source": [
    "triple_data = np.load(path_triple_data)\n",
    "triples = triple_data[\"triples\"]\n",
    "triple_activity = triple_data[\"triple_activity\"]\n",
    "triple_info = triple_data[\"triple_info\"]"
   ]
  },
  {
   "cell_type": "code",
   "execution_count": 4,
   "metadata": {},
   "outputs": [],
   "source": [
    "markup_df = pd.read_csv(markup_path, index_col=0)\n",
    "markup = markup_df.to_dict(orient='list')\n",
    "markup = {key: np.array(value) for key, value in markup.items()}"
   ]
  },
  {
   "cell_type": "code",
   "execution_count": 5,
   "metadata": {},
   "outputs": [],
   "source": [
    "graph_data = np.load(graph_path)\n",
    "nt = graph_data[\"nt\"]"
   ]
  },
  {
   "cell_type": "markdown",
   "metadata": {},
   "source": [
    "### Markup preprocessing\n",
    "\n",
    "On this step we need to get number of intervals active for every label in the whole video."
   ]
  },
  {
   "cell_type": "code",
   "execution_count": 6,
   "metadata": {},
   "outputs": [],
   "source": [
    "label_intervals = get_label_intervals(markup, nt)\n",
    "packed_label_intensity = {key:np.packbits(value) for key, value in markup.items()}"
   ]
  },
  {
   "cell_type": "markdown",
   "metadata": {},
   "source": [
    "### Triple info preprocessing\n",
    "\n",
    "On this step frequency tables are calculated and all results are placed in dataframe for convenience for further analysis."
   ]
  },
  {
   "cell_type": "code",
   "execution_count": 7,
   "metadata": {},
   "outputs": [
    {
     "name": "stdout",
     "output_type": "stream",
     "text": [
      "0: [2 3 6]\n"
     ]
    }
   ],
   "source": [
    "dict_freq_tables = get_freq_tables_triples(\n",
    "            triple_activity, triples, packed_label_intensity, label_intervals\n",
    "        )\n",
    "df_edges = pd.DataFrame(\n",
    "        list(dict_freq_tables.items()), \n",
    "        index=list(dict_freq_tables.keys()), \n",
    "        columns=['edge', 'freq_table']\n",
    "    )"
   ]
  },
  {
   "cell_type": "markdown",
   "metadata": {},
   "source": [
    "### Chi-square calculation"
   ]
  },
  {
   "cell_type": "code",
   "execution_count": 8,
   "metadata": {},
   "outputs": [
    {
     "data": {
      "text/html": [
       "<div>\n",
       "<style scoped>\n",
       "    .dataframe tbody tr th:only-of-type {\n",
       "        vertical-align: middle;\n",
       "    }\n",
       "\n",
       "    .dataframe tbody tr th {\n",
       "        vertical-align: top;\n",
       "    }\n",
       "\n",
       "    .dataframe thead th {\n",
       "        text-align: right;\n",
       "    }\n",
       "</style>\n",
       "<table border=\"1\" class=\"dataframe\">\n",
       "  <thead>\n",
       "    <tr style=\"text-align: right;\">\n",
       "      <th></th>\n",
       "      <th>chi2_pval</th>\n",
       "      <th>chi2_expected_freq</th>\n",
       "      <th>chi2_pval_adj</th>\n",
       "    </tr>\n",
       "  </thead>\n",
       "  <tbody>\n",
       "    <tr>\n",
       "      <th>(2, 3, 6)</th>\n",
       "      <td>0.324901</td>\n",
       "      <td>[[0.24778761061946902, 0.4424778761061947, 0.3...</td>\n",
       "      <td>0.859771</td>\n",
       "    </tr>\n",
       "    <tr>\n",
       "      <th>(2, 3, 9)</th>\n",
       "      <td>0.901601</td>\n",
       "      <td>[[1.238938053097345, 2.212389380530974, 1.5486...</td>\n",
       "      <td>0.901601</td>\n",
       "    </tr>\n",
       "    <tr>\n",
       "      <th>(2, 6, 3)</th>\n",
       "      <td>0.529604</td>\n",
       "      <td>[[0.24778761061946902, 0.4424778761061947, 0.3...</td>\n",
       "      <td>0.859771</td>\n",
       "    </tr>\n",
       "    <tr>\n",
       "      <th>(2, 9, 3)</th>\n",
       "      <td>0.324901</td>\n",
       "      <td>[[0.24778761061946902, 0.4424778761061947, 0.3...</td>\n",
       "      <td>0.859771</td>\n",
       "    </tr>\n",
       "    <tr>\n",
       "      <th>(3, 2, 6)</th>\n",
       "      <td>0.216231</td>\n",
       "      <td>[[0.24778761061946902, 0.4424778761061947, 0.3...</td>\n",
       "      <td>0.768191</td>\n",
       "    </tr>\n",
       "  </tbody>\n",
       "</table>\n",
       "</div>"
      ],
      "text/plain": [
       "           chi2_pval                                 chi2_expected_freq  \\\n",
       "(2, 3, 6)   0.324901  [[0.24778761061946902, 0.4424778761061947, 0.3...   \n",
       "(2, 3, 9)   0.901601  [[1.238938053097345, 2.212389380530974, 1.5486...   \n",
       "(2, 6, 3)   0.529604  [[0.24778761061946902, 0.4424778761061947, 0.3...   \n",
       "(2, 9, 3)   0.324901  [[0.24778761061946902, 0.4424778761061947, 0.3...   \n",
       "(3, 2, 6)   0.216231  [[0.24778761061946902, 0.4424778761061947, 0.3...   \n",
       "\n",
       "           chi2_pval_adj  \n",
       "(2, 3, 6)       0.859771  \n",
       "(2, 3, 9)       0.901601  \n",
       "(2, 6, 3)       0.859771  \n",
       "(2, 9, 3)       0.859771  \n",
       "(3, 2, 6)       0.768191  "
      ]
     },
     "execution_count": 8,
     "metadata": {},
     "output_type": "execute_result"
    }
   ],
   "source": [
    "df_chi_res = get_chi_square_results_df(df_edges, bool_gtest=False)\n",
    "df_chi_res.head()"
   ]
  },
  {
   "cell_type": "code",
   "execution_count": null,
   "metadata": {},
   "outputs": [],
   "source": []
  }
 ],
 "metadata": {
  "kernelspec": {
   "display_name": ".venv",
   "language": "python",
   "name": "python3"
  },
  "language_info": {
   "codemirror_mode": {
    "name": "ipython",
    "version": 3
   },
   "file_extension": ".py",
   "mimetype": "text/x-python",
   "name": "python",
   "nbconvert_exporter": "python",
   "pygments_lexer": "ipython3",
   "version": "3.9.6"
  }
 },
 "nbformat": 4,
 "nbformat_minor": 2
}
